{
 "cells": [
  {
   "cell_type": "code",
   "execution_count": 13,
   "metadata": {},
   "outputs": [],
   "source": [
    "import numpy as np\n",
    "import pandas as pd \n",
    "import matplotlib.pyplot as plt\n",
    "import math\n",
    "import os\n",
    "import glob\n",
    "import seaborn as sns; sns.set()\n",
    "\n",
    "# fe_dir = \"C:\\\\Users\\\\ikang7\\\\Dropbox (GaTech)\\\\ML\\\\data\\\\sensor_fusion\\\\feature extraction data\\\\\"\n",
    "# raw_dir = \"C:\\\\Users\\\\ikang7\\\\Dropbox (GaTech)\\\\ML\\\\data\\\\sensor_fusion\\\\Opensim Data\\\\\"\n",
    "raw_dir = \"F:\\\\Dropbox (GaTech)\\\\ML\\\\data\\\\sensor_fusion\\\\Opensim Data\\\\\"\n",
    "norm_dir = \"F:\\\\Dropbox (GaTech)\\\\ML\\\\data\\\\sensor_fusion\\\\norm_matrix\\\\\"\n",
    "window_size = 350\n",
    "transition_point = 0.2\n",
    "\n",
    "trial_pool = [1]\n",
    "subject_pool = [11]\n",
    "mode_pool = [\"RA2\"]\n",
    "# mode_pool = [\"RA2\", \"RA3\", \"RA4\", \"RA5\", \"RD2\", \"RD3\", \"RD4\", \"RD5\",\"SA1\", \"SA2\", \"SA3\", \"SA4\", \"SD1\", \"SD2\", \"SD3\", \"SD4\"]\n",
    "leg_pool = [\"R\"]\n",
    "# subject_pool = [6, 7, 8, 9, 10, 12, 13, 14, 15, 16, 17, 18, 19, 20, 21, 23, 24, 25, 27 ,28]\n",
    "\n",
    "feature_data = pd.DataFrame()\n",
    "mode_label = pd.DataFrame()\n",
    "gait_phase = pd.DataFrame()\n",
    "\n",
    "# Reading Data Files\n",
    "for trial in trial_pool:\n",
    "    for subject in subject_pool:\n",
    "        for mode in mode_pool:\n",
    "            for starting_leg in leg_pool:\n",
    "                data_path = raw_dir+\"AB\"+str(subject)+\"_\"+str(mode)+\"_S2_\"+str(starting_leg)+\"_T\"+str(trial)+\".csv\"\n",
    "\n",
    "                if os.path.exists(data_path) == 1:\n",
    "                    for data_read_path in glob.glob(data_path):\n",
    "                        data = pd.read_csv(data_read_path, header=0)\n",
    "                        feature_data = pd.concat([feature_data, data.iloc[:, :-3]], axis=0, ignore_index=True)\n",
    "                        mode_label = pd.concat([mode_label, data.iloc[:, -3]], axis=0, ignore_index=True)\n",
    "                        gait_phase = pd.concat([gait_phase, data.iloc[:, -2]], axis=0, ignore_index=True)\n",
    "                feature_data = feature_data.to_numpy()\n",
    "                mode_label = mode_label.to_numpy()\n",
    "                gait_phase = gait_phase.to_numpy()\n",
    "                \n",
    "                \n",
    "\n",
    "# Reading Norm Matrix          \n",
    "norm_matrix = []\n",
    "for subject in [6, 7, 8, 9, 10, 12, 13, 14, 15, 16, 17, 18, 19, 20, 21, 23, 24, 25, 27 ,28]:\n",
    "    norm_path = norm_dir+\"AB\"+str(subject)+\"_norm.csv\"\n",
    "    for data_read_path in glob.glob(norm_path):\n",
    "        data = pd.read_csv(data_read_path, header=None)\n",
    "        norm_matrix.append(data.values)"
   ]
  },
  {
   "cell_type": "code",
   "execution_count": 19,
   "metadata": {},
   "outputs": [
    {
     "name": "stdout",
     "output_type": "stream",
     "text": [
      "(20, 14, 2)\n",
      "[10.79171444 15.76074234]\n"
     ]
    }
   ],
   "source": [
    "print(np.shape(norm_matrix))\n",
    "\n",
    "            processing_data = (processing_data - norm_mat[:,0])/norm_mat[:,1]"
   ]
  },
  {
   "cell_type": "code",
   "execution_count": 12,
   "metadata": {
    "scrolled": true
   },
   "outputs": [
    {
     "data": {
      "image/png": "[encoded data removed]",
      "text/plain": [
       "<Figure size 432x288 with 2 Axes>"
      ]
     },
     "metadata": {},
     "output_type": "display_data"
    }
   ],
   "source": [
    "transition_mode_diff = np.where(np.diff(np.transpose(mode_label)) != 0)[1]\n",
    "transition_idx_1 = np.arange(0, transition_mode_diff[0]+1)\n",
    "transition_idx_2 = np.arange(transition_mode_diff[1]+1, len(mode_label))\n",
    "# print(np.transpose(gait_phase))\n",
    "ax = sns.heatmap(np.transpose(feature_data[transition_idx_1,:]))\n",
    "ax = sns.heatmap(np.transpose(feature_data[transition_idx_2,:]))"
   ]
  }
 ],
 "metadata": {
  "kernelspec": {
   "display_name": "Python 3",
   "language": "python",
   "name": "python3"
  },
  "language_info": {
   "codemirror_mode": {
    "name": "ipython",
    "version": 3
   },
   "file_extension": ".py",
   "mimetype": "text/x-python",
   "name": "python",
   "nbconvert_exporter": "python",
   "pygments_lexer": "ipython3",
   "version": "3.8.3"
  }
 },
 "nbformat": 4,
 "nbformat_minor": 4
}
