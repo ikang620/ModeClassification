{
  "nbformat": 4,
  "nbformat_minor": 0,
  "metadata": {
    "kernelspec": {
      "display_name": "Python 3",
      "language": "python",
      "name": "python3"
    },
    "language_info": {
      "codemirror_mode": {
        "name": "ipython",
        "version": 3
      },
      "file_extension": ".py",
      "mimetype": "text/x-python",
      "name": "python",
      "nbconvert_exporter": "python",
      "pygments_lexer": "ipython3",
      "version": "3.8.3"
    },
    "colab": {
      "name": "Transitional_Mode_Signal_Analysis.ipynb",
      "provenance": []
    }
  },
  "cells": [
    {
      "cell_type": "code",
      "metadata": {
        "id": "lWB3WlpBBfgs",
        "colab_type": "code",
        "colab": {
          "base_uri": "https://localhost:8080/",
          "height": 34
        },
        "outputId": "988a01a4-5d28-4d73-93a9-459c452beb97"
      },
      "source": [
        "from google.colab import drive\n",
        "drive.mount('/content/drive')"
      ],
      "execution_count": 36,
      "outputs": [
        {
          "output_type": "stream",
          "text": [
            "Drive already mounted at /content/drive; to attempt to forcibly remount, call drive.mount(\"/content/drive\", force_remount=True).\n"
          ],
          "name": "stdout"
        }
      ]
    },
    {
      "cell_type": "code",
      "metadata": {
        "scrolled": true,
        "id": "kXYsRTgcPOry",
        "colab_type": "code",
        "colab": {}
      },
      "source": [
        "import numpy as np\n",
        "import pandas as pd \n",
        "from scipy import signal\n",
        "import statistics\n",
        "import matplotlib.pyplot as plt\n",
        "import math\n",
        "import os\n",
        "import glob\n",
        "import seaborn as sns; sns.set()\n",
        "\n",
        "def mode_signal_generation(leg_pool, mode_pool):\n",
        "  raw_dir = \"/content/drive/My Drive/ML Data/Offline Mode Classification Raw Data/\"\n",
        "  window_size = 350\n",
        "  transition_point = 0.2\n",
        "  \n",
        "  trial_pool = [1, 2, 3]\n",
        "  subject_pool = [\"06\", \"07\", \"08\", \"09\", \"10\", \"12\", \"13\", \"14\", \"15\", \"16\", \"17\", \"18\", \"19\", \"20\", \"21\", \"23\", \"24\", \"25\", \"27\", \"28\"]\n",
        "\n",
        "  transition1_average_signal = []\n",
        "  transition2_average_signal = []\n",
        "  # Reading Data Files\n",
        "  for subject in subject_pool:\n",
        "\n",
        "      transition1_signal = []\n",
        "      transition2_signal = []\n",
        "      for mode in mode_pool:\n",
        "          for trial in trial_pool:\n",
        "              for starting_leg in leg_pool:\n",
        "                  data_path = raw_dir+\"AB\"+subject+\"_\"+str(mode)+\"_S2_\"+str(starting_leg)+\"_T\"+str(trial)+\".csv\"\n",
        "\n",
        "                  if os.path.exists(data_path) == 1:\n",
        "                      for data_read_path in glob.glob(data_path):\n",
        "                          data = pd.read_csv(data_read_path, header=0)\n",
        "                          feature_data = data.iloc[:, :-3].to_numpy()\n",
        "                          mode_label = data.iloc[:, -3].to_numpy()\n",
        "                          \n",
        "                  # Segmenting data out into first and second transition gait cycle\n",
        "                  transition_mode_diff = np.where(np.diff(np.transpose(mode_label))!=0)[0]          \n",
        "                  transition_1 = feature_data[np.arange(0, transition_mode_diff[0]+1)]\n",
        "                  transition_2 = feature_data[np.arange(transition_mode_diff[1]+1, len(mode_label))]\n",
        "                  \n",
        "                  # Upsampling the signal and append to a list\n",
        "                  transition1_raw_signal = []\n",
        "                  transition2_raw_signal = []\n",
        "                  for ii in np.arange(0, np.shape(transition_1)[1]):\n",
        "                      transition1_raw_signal.append(np.interp(np.linspace(0, 100, 1000), np.linspace(0, 100, len(transition_1)), transition_1[:, ii]))\n",
        "                      transition2_raw_signal.append(np.interp(np.linspace(0, 100, 1000), np.linspace(0, 100, len(transition_2)), transition_2[:, ii]))\n",
        "                  # Appending the upsampled trial data to a subject signal\n",
        "                  transition1_signal.append(transition1_raw_signal)\n",
        "                  transition2_signal.append(transition1_raw_signal)\n",
        "\n",
        "      # Averaging the signal within the subject and appending to a total array\n",
        "      transition1_average_signal.append(np.mean(transition1_signal, axis = 0))\n",
        "      transition2_average_signal.append(np.mean(transition2_signal, axis = 0))\n",
        "\n",
        "  # Computing mean and std of the sensor signal across subjects\n",
        "  transition1_mean_signal = np.mean(transition1_average_signal, axis = 0)\n",
        "  transition1_std_signal = np.std(transition1_average_signal, axis = 0)\n",
        "  transition2_mean_signal = np.mean(transition2_average_signal, axis = 0)\n",
        "  transition2_std_signal = np.std(transition2_average_signal, axis = 0)\n",
        "\n",
        "  return transition1_mean_signal, transition1_std_signal, transition2_mean_signal, transition2_std_signal"
      ],
      "execution_count": 38,
      "outputs": []
    },
    {
      "cell_type": "code",
      "metadata": {
        "id": "YCnAOF0OajkW",
        "colab_type": "code",
        "colab": {}
      },
      "source": [
        "def LG_steady_signal():\n",
        "  raw_dir = \"/content/drive/My Drive/ML Data/Offline Mode Classification Raw Data/\"\n",
        "  subject_pool = [\"06\", \"07\", \"08\", \"09\", \"10\", \"12\", \"13\", \"14\", \"15\", \"16\", \"17\", \"18\", \"19\", \"20\", \"21\", \"23\", \"24\", \"25\", \"27\", \"28\"]\n",
        "  trial_pool = [1, 2, 3]\n",
        "\n",
        "  # Reading Data Files\n",
        "  subject_mean_signal = []\n",
        "  for subject in subject_pool:\n",
        "    for trial in trial_pool:\n",
        "      data_path = raw_dir+\"AB\"+subject+\"_\"+str(mode)+\"_S2_T\"+str(trial)+\".csv\"\n",
        "      if os.path.exists(data_path) == 1:\n",
        "        for data_read_path in glob.glob(data_path):\n",
        "          data = pd.read_csv(data_read_path, header=0)\n",
        "          feature_data = data.iloc[:, :-3].to_numpy()\n",
        "          gc_label = data.iloc[:, -2].to_numpy()\n",
        "\n",
        "      hc_idx = np.where(gc_label == 0)[0]\n",
        "      final_signal = []\n",
        "      for ii in np.arange(len(hc_idx)-1):\n",
        "        signal = []\n",
        "        for jj in np.arange(0, np.shape(feature_data)[1]):\n",
        "          one_gc_feature = feature_data[hc_idx[ii]:hc_idx[ii+1]-1]\n",
        "          signal.append(np.interp(np.linspace(0, 100, 1000), np.linspace(0, 100, len(one_gc_feature)), one_gc_feature[:, jj]))\n",
        "        final_signal.append(signal)\n",
        "    subject_mean_signal.append(np.mean(final_signal, axis = 0))\n",
        "\n",
        "  LG_mean = np.mean(subject_mean_signal, axis = 0)\n",
        "  LG_std = np.mean(subject_mean_signal, axis = 0)\n",
        "\n",
        "  return LG_mean, LG_std"
      ],
      "execution_count": 39,
      "outputs": []
    },
    {
      "cell_type": "code",
      "metadata": {
        "id": "JNhsXjkZJg7Q",
        "colab_type": "code",
        "colab": {}
      },
      "source": [
        "def mode_steady_signal(mode):\n",
        "  raw_dir = \"/content/drive/My Drive/ML Data/Offline Mode Classification Raw Data/\"\n",
        "  subject_pool = [\"06\", \"07\", \"08\", \"09\", \"10\", \"12\", \"13\", \"14\", \"15\", \"16\", \"17\", \"18\", \"19\", \"20\", \"21\", \"23\", \"24\", \"25\", \"27\", \"28\"]\n",
        "  trial_pool = [1, 2, 3]\n",
        "\n",
        "  # Reading Data Files\n",
        "  subject_mean_signal = []\n",
        "  for subject in subject_pool:\n",
        "    for trial in trial_pool:\n",
        "      data_path = raw_dir+\"AB\"+subject+\"_\"+str(mode)+\"_S2_T\"+str(trial)+\".csv\"\n",
        "      if os.path.exists(data_path) == 1:\n",
        "        for data_read_path in glob.glob(data_path):\n",
        "          data = pd.read_csv(data_read_path, header=0)\n",
        "          feature_data = data.iloc[:, :-3].to_numpy()\n",
        "          gc_label = data.iloc[:, -2].to_numpy()\n",
        "\n",
        "      hc_idx = np.where(gc_label == 0)[0]\n",
        "      final_signal = []\n",
        "      for ii in np.arange(len(hc_idx)-1):\n",
        "        signal = []\n",
        "        for jj in np.arange(0, np.shape(feature_data)[1]):\n",
        "          one_gc_feature = feature_data[hc_idx[ii]:hc_idx[ii+1]-1]\n",
        "          signal.append(np.interp(np.linspace(0, 100, 1000), np.linspace(0, 100, len(one_gc_feature)), one_gc_feature[:, jj]))\n",
        "        final_signal.append(signal)\n",
        "    subject_mean_signal.append(np.mean(final_signal, axis = 0))\n",
        "\n",
        "  LG_mean = np.mean(subject_mean_signal, axis = 0)\n",
        "  LG_std = np.mean(subject_mean_signal, axis = 0)\n",
        "\n",
        "  return LG_mean, LG_std"
      ],
      "execution_count": null,
      "outputs": []
    },
    {
      "cell_type": "code",
      "metadata": {
        "id": "fF6Suq_OPOr2",
        "colab_type": "code",
        "colab": {}
      },
      "source": [
        "LG_mean, LG_std = LG_steady_signal()\n",
        "RA_mean1, RA_std1, RA_mean2, RA_std2 = mode_signal_generation([\"R\"], [\"RA2\", \"RA3\", \"RA4\", \"RA5\"])\n",
        "RD_mean1, RD_std1, RD_mean2, RD_std2 = mode_signal_generation([\"R\"], [\"RD2\", \"RD3\", \"RD4\", \"RD5\"])\n",
        "SA_mean1, SA_std1, SA_mean2, SA_std2 = mode_signal_generation([\"R\"], [\"SA1\", \"SA2\", \"SA3\", \"SA4\"])\n",
        "SD_mean1, SD_std1, SD_mean2, SD_std2 = mode_signal_generation([\"R\"], [\"SD1\", \"SD2\", \"SD3\", \"SD4\"])\n",
        "\n",
        "\n"
      ],
      "execution_count": null,
      "outputs": []
    },
    {
      "cell_type": "code",
      "metadata": {
        "scrolled": true,
        "id": "-h7ydjQQPOr5",
        "colab_type": "code",
        "colab": {},
        "outputId": "d432187a-c910-4e5f-91ba-63ec6673455e"
      },
      "source": [
        "ax = sns.heatmap(np.transpose(data_t1))"
      ],
      "execution_count": null,
      "outputs": [
        {
          "output_type": "display_data",
          "data": {
            "image/png": "[encoded data removed]",
            "text/plain": [
              "<Figure size 432x288 with 2 Axes>"
            ]
          },
          "metadata": {
            "tags": []
          }
        }
      ]
    }
  ]
}